{
 "cells": [
  {
   "cell_type": "markdown",
   "metadata": {},
   "source": [
    "# Help Twitter Combat Hate Speech Using NLP and Machine Learning"
   ]
  },
  {
   "cell_type": "code",
   "execution_count": 1,
   "metadata": {},
   "outputs": [],
   "source": [
    "# Import all Important and needed liabraries.\n",
    "\n",
    "import pandas as pd\n",
    "import numpy as np\n",
    "import matplotlib.pyplot as plt\n",
    "%matplotlib inline\n",
    "import seaborn as sns\n",
    "\n",
    "import string\n",
    "import re\n",
    "import nltk\n",
    "stopwords = nltk.corpus.stopwords.words('English')\n",
    "ps = nltk.PorterStemmer()\n",
    "\n",
    "import warnings \n",
    "warnings.filterwarnings('ignore')"
   ]
  },
  {
   "cell_type": "markdown",
   "metadata": {},
   "source": [
    "### 1.Load the tweets file using read_csv function from Pandas package. "
   ]
  },
  {
   "cell_type": "code",
   "execution_count": 2,
   "metadata": {},
   "outputs": [],
   "source": [
    "path = 'C:/Users/91805/Documents/Kalpesh Mahajan/Natuaral Language Processing Class/Project 1  Help Twitter Combat Hate Speech Using NLP and Machine Learning/TwitterHate.csv'\n",
    "TweetData = pd.read_csv(path)"
   ]
  },
  {
   "cell_type": "code",
   "execution_count": 3,
   "metadata": {},
   "outputs": [
    {
     "data": {
      "text/html": [
       "<div>\n",
       "<style scoped>\n",
       "    .dataframe tbody tr th:only-of-type {\n",
       "        vertical-align: middle;\n",
       "    }\n",
       "\n",
       "    .dataframe tbody tr th {\n",
       "        vertical-align: top;\n",
       "    }\n",
       "\n",
       "    .dataframe thead th {\n",
       "        text-align: right;\n",
       "    }\n",
       "</style>\n",
       "<table border=\"1\" class=\"dataframe\">\n",
       "  <thead>\n",
       "    <tr style=\"text-align: right;\">\n",
       "      <th></th>\n",
       "      <th>id</th>\n",
       "      <th>label</th>\n",
       "      <th>tweet</th>\n",
       "    </tr>\n",
       "  </thead>\n",
       "  <tbody>\n",
       "    <tr>\n",
       "      <th>0</th>\n",
       "      <td>1</td>\n",
       "      <td>0</td>\n",
       "      <td>@user when a father is dysfunctional and is s...</td>\n",
       "    </tr>\n",
       "    <tr>\n",
       "      <th>1</th>\n",
       "      <td>2</td>\n",
       "      <td>0</td>\n",
       "      <td>@user @user thanks for #lyft credit i can't us...</td>\n",
       "    </tr>\n",
       "    <tr>\n",
       "      <th>2</th>\n",
       "      <td>3</td>\n",
       "      <td>0</td>\n",
       "      <td>bihday your majesty</td>\n",
       "    </tr>\n",
       "    <tr>\n",
       "      <th>3</th>\n",
       "      <td>4</td>\n",
       "      <td>0</td>\n",
       "      <td>#model   i love u take with u all the time in ...</td>\n",
       "    </tr>\n",
       "    <tr>\n",
       "      <th>4</th>\n",
       "      <td>5</td>\n",
       "      <td>0</td>\n",
       "      <td>factsguide: society now    #motivation</td>\n",
       "    </tr>\n",
       "  </tbody>\n",
       "</table>\n",
       "</div>"
      ],
      "text/plain": [
       "   id  label                                              tweet\n",
       "0   1      0   @user when a father is dysfunctional and is s...\n",
       "1   2      0  @user @user thanks for #lyft credit i can't us...\n",
       "2   3      0                                bihday your majesty\n",
       "3   4      0  #model   i love u take with u all the time in ...\n",
       "4   5      0             factsguide: society now    #motivation"
      ]
     },
     "execution_count": 3,
     "metadata": {},
     "output_type": "execute_result"
    }
   ],
   "source": [
    "# Looking at the first few records.\n",
    "TweetData.head()"
   ]
  },
  {
   "cell_type": "code",
   "execution_count": 4,
   "metadata": {},
   "outputs": [
    {
     "data": {
      "text/plain": [
       "(31962, 3)"
      ]
     },
     "execution_count": 4,
     "metadata": {},
     "output_type": "execute_result"
    }
   ],
   "source": [
    "# Shape\n",
    "TweetData.shape\n",
    "# Total No of Rows = 31962\n",
    "# Total No of Columns = 3"
   ]
  },
  {
   "cell_type": "code",
   "execution_count": 5,
   "metadata": {},
   "outputs": [
    {
     "data": {
      "text/plain": [
       "id       False\n",
       "label    False\n",
       "tweet    False\n",
       "dtype: bool"
      ]
     },
     "execution_count": 5,
     "metadata": {},
     "output_type": "execute_result"
    }
   ],
   "source": [
    "# Checking Null Values of any\n",
    "TweetData.isnull().any()\n",
    "# Conclusion there is no column with null values in it."
   ]
  },
  {
   "cell_type": "code",
   "execution_count": 6,
   "metadata": {},
   "outputs": [
    {
     "name": "stdout",
     "output_type": "stream",
     "text": [
      "<class 'pandas.core.frame.DataFrame'>\n",
      "RangeIndex: 31962 entries, 0 to 31961\n",
      "Data columns (total 3 columns):\n",
      " #   Column  Non-Null Count  Dtype \n",
      "---  ------  --------------  ----- \n",
      " 0   id      31962 non-null  int64 \n",
      " 1   label   31962 non-null  int64 \n",
      " 2   tweet   31962 non-null  object\n",
      "dtypes: int64(2), object(1)\n",
      "memory usage: 749.2+ KB\n",
      "None\n",
      "------------------Check Duplicate Entries in each coumns--------------------------\n",
      "Unique entries in id: 31962\n",
      "Unique entries in label: 31962\n",
      "Unique entries in tweet: 31962\n",
      "-----------------------------------------------------------------------------------\n"
     ]
    }
   ],
   "source": [
    "# Check the Attributes or MetaData of the Data.\n",
    "print(TweetData.info())\n",
    "print('------------------Check Duplicate Entries in each coumns--------------------------')\n",
    "print('Unique entries in id:',TweetData.id.value_counts().sum())\n",
    "print('Unique entries in label:',TweetData.label.value_counts().sum())\n",
    "print('Unique entries in tweet:',TweetData.tweet.value_counts().sum())\n",
    "print('-----------------------------------------------------------------------------------')\n",
    "# Conclusions:\n",
    "# 1. Id column is having Data type int and no null values.\n",
    "# 2. label column is having Data type int and no null values\n",
    "# 3. tweet column is having Data type object and no null values.\n",
    "# 4. There are no missing values in any column\n",
    "# 5. There are no duplicate entries in each column"
   ]
  },
  {
   "cell_type": "code",
   "execution_count": 7,
   "metadata": {},
   "outputs": [
    {
     "name": "stdout",
     "output_type": "stream",
     "text": [
      "   label\n",
      "0  29720\n",
      "1   2242\n"
     ]
    },
    {
     "data": {
      "image/png": "[encoded data removed]",
      "text/plain": [
       "<Figure size 360x360 with 1 Axes>"
      ]
     },
     "metadata": {},
     "output_type": "display_data"
    },
    {
     "data": {
      "text/plain": [
       "<matplotlib.axes._subplots.AxesSubplot at 0x237ef8c4e88>"
      ]
     },
     "execution_count": 7,
     "metadata": {},
     "output_type": "execute_result"
    },
    {
     "data": {
      "image/png": "[encoded data removed]",
      "text/plain": [
       "<Figure size 432x288 with 1 Axes>"
      ]
     },
     "metadata": {
      "needs_background": "light"
     },
     "output_type": "display_data"
    }
   ],
   "source": [
    "# Check the categerories \n",
    "PieData = pd.DataFrame(TweetData.label.value_counts())\n",
    "print(PieData)\n",
    "\n",
    "#=========================================Check using pie Plot====================================================\n",
    "plt.figure(figsize=(5,5))\n",
    "plt.pie(PieData,labels=['non hate','hate'])\n",
    "plt.title(\"Total Hate and Non Values classification\")\n",
    "plt.show()\n",
    "\n",
    "#=========================================Check using Bar Plot====================================================\n",
    "PieData[\"categeory\"] = pd.Series(['non hate','hate'])\n",
    "sns.barplot(x='categeory',y='label',data=PieData)\n",
    "# Conclusion : The output is imbalanced."
   ]
  },
  {
   "cell_type": "markdown",
   "metadata": {},
   "source": [
    "The function cleanup will perform below tasks.\n",
    "1. Convert all the words into lowercase\n",
    "2. Remove the redundant workd 'rt' from data\n",
    "3. Remove the redundant word 'amp' from data\n",
    "4. Remove the user handles starting with @ and sometimes ending with colan.\n",
    "5. Remove the '#' tags from the data.\n",
    "6. Remove all the punctuations.\n",
    "7. Remove repeated special characters from the text.\n",
    "8. Perfrom Tokenization.\n",
    "9. Perform Stemming of the words and remove the stopwords.\n",
    "10. Remove the words with length 1\n",
    "11. Only return the alphabetic data."
   ]
  },
  {
   "cell_type": "code",
   "execution_count": 8,
   "metadata": {},
   "outputs": [],
   "source": [
    "def cleanup(text):\n",
    "    \n",
    "    # Make all words in lower case\n",
    "    text = [word.lower() for word in text]\n",
    "    \n",
    "    # Remove redundant term rt \n",
    "    OperationA = [re.sub(r'^rt',' ',tweet) for tweet in text]\n",
    "    \n",
    "    # Remove reduadant term amp from the text \n",
    "    OperationB = [re.sub(r'amp',' ',tweet) for tweet in OperationA]\n",
    "    \n",
    "    #User Handle Removed\n",
    "    Operation1 = [re.sub('@\\w+|@w+:','',words) for words in OperationB]\n",
    "    \n",
    "    # Remove '#' tag from the text and retain the word.\n",
    "    Operation2 = [re.sub('#',' ',words) for words in Operation1]\n",
    "    \n",
    "   \n",
    "    # Remove URLs from the text\n",
    "    Operation3 = [re.sub('http:\\/\\/\\w.+|https:\\/\\/\\w.+','',words) for words in Operation2]\n",
    "    \n",
    "    #Remove Repeated Special Characters from the text.\n",
    "    \n",
    "    Operation4 = [re.sub('[\\\\,--,!+,*,..,:]+','',words) for words in Operation3]\n",
    "    \n",
    "    # Remove the Punctuations from the text\n",
    "    Operation5 = \"\".join([word.lower() for word in Operation4 if word not in string.punctuation])\n",
    "    \n",
    "   \n",
    "    # Tokenize the text\n",
    "    tokens = nltk.word_tokenize(Operation5)\n",
    "    \n",
    "    # Stem the words and Remove the stopwords.\n",
    "    Operation6 = [ps.stem(word) for word in tokens if word not in stopwords]\n",
    "    \n",
    "    # Remove the words with Lengh 1\n",
    "    Operation7 = [word for word in Operation6 if len(word) > 1 ]\n",
    "    \n",
    "    # Consider only Aplphabetic words \n",
    "    \n",
    "    Operation8 = [word for word in Operation7 if str(word).isalpha() is True]\n",
    "    return(Operation8)"
   ]
  },
  {
   "cell_type": "markdown",
   "metadata": {},
   "source": [
    "### 2. Feature Engineering using TD-IDF vectorizer to find 10 most common terms used in data."
   ]
  },
  {
   "cell_type": "code",
   "execution_count": 10,
   "metadata": {},
   "outputs": [],
   "source": [
    "# Use the counter and find the 10 most common terms.\n",
    "from sklearn.feature_extraction.text import TfidfVectorizer\n",
    "\n",
    "TF_IDF_Vec = TfidfVectorizer(analyzer=cleanup,max_features=10)\n",
    "X_tfidf1 = TF_IDF_Vec.fit_transform(TweetData.tweet)"
   ]
  },
  {
   "cell_type": "code",
   "execution_count": 11,
   "metadata": {},
   "outputs": [
    {
     "data": {
      "text/plain": [
       "['amp', 'day', 'get', 'go', 'happi', 'im', 'love', 'thank', 'time', 'user']"
      ]
     },
     "execution_count": 11,
     "metadata": {},
     "output_type": "execute_result"
    }
   ],
   "source": [
    "# Get and print 10 most common test.\n",
    "\n",
    "Top10MostCommonTerms = TF_IDF_Vec.get_feature_names()\n",
    "Top10MostCommonTerms"
   ]
  },
  {
   "cell_type": "code",
   "execution_count": 12,
   "metadata": {},
   "outputs": [],
   "source": [
    "# Create X Data using TFIDF vectorizer.\n",
    "\n",
    "TF_IDF_Vec1 = TfidfVectorizer(analyzer=cleanup,max_features=5000)\n",
    "X_Final = TF_IDF_Vec1.fit_transform(TweetData.tweet)"
   ]
  },
  {
   "cell_type": "code",
   "execution_count": 13,
   "metadata": {},
   "outputs": [],
   "source": [
    "# Prepare the X Features\n",
    "\n",
    "from sklearn.model_selection import train_test_split\n",
    "\n",
    "XFeatures = pd.DataFrame(X_Final.toarray())\n",
    "\n",
    "X_train,X_test,y_train,y_test = train_test_split(XFeatures,TweetData.label,random_state = 123,train_size = 0.8)"
   ]
  },
  {
   "cell_type": "code",
   "execution_count": 14,
   "metadata": {},
   "outputs": [
    {
     "name": "stdout",
     "output_type": "stream",
     "text": [
      "(25569, 5000) (6393, 5000) (25569,) (6393,)\n"
     ]
    }
   ],
   "source": [
    "print(X_train.shape,X_test.shape,y_train.shape,y_test.shape)"
   ]
  },
  {
   "cell_type": "markdown",
   "metadata": {},
   "source": [
    "### 3. Logistic Regression Model."
   ]
  },
  {
   "cell_type": "code",
   "execution_count": 15,
   "metadata": {},
   "outputs": [
    {
     "name": "stdout",
     "output_type": "stream",
     "text": [
      " Test Score :0.9554199906147348 Train Score: 0.9549845516054597 for random state: 17\n",
      " Test Score :0.9565149382136712 Train Score: 0.9545934530095037 for random state: 49\n",
      " Test Score :0.9544814641013608 Train Score: 0.9543587938519301 for random state: 70\n"
     ]
    }
   ],
   "source": [
    "# This step will help finding us Generalized model.\n",
    "# We will be able to find the Random state value which is generating the Test Score of the model greater than Train Score\n",
    "\n",
    "from sklearn.linear_model import LogisticRegression\n",
    "\n",
    "for i in range(1,100):\n",
    "    X_train,X_test,y_train,y_test = train_test_split(XFeatures,TweetData.label,random_state = i,train_size = 0.8)\n",
    "\n",
    "    Log_reg_model = LogisticRegression(random_state=1)\n",
    "    Log_reg_model.fit(X_train,y_train)\n",
    "\n",
    "    Log_reg_train_score = Log_reg_model.score(X_train,y_train)\n",
    "    Log_reg_test_score  = Log_reg_model.score(X_test,y_test)\n",
    "    \n",
    "    if Log_reg_test_score > Log_reg_train_score:\n",
    "        print (\" Test Score :{} Train Score: {} for random state: {}\".format(Log_reg_test_score,Log_reg_train_score,i))"
   ]
  },
  {
   "cell_type": "code",
   "execution_count": 16,
   "metadata": {},
   "outputs": [
    {
     "name": "stdout",
     "output_type": "stream",
     "text": [
      "Log Reg Train Score: 0.9543587938519301\n",
      "Log Reg Test Score: 0.9544814641013608\n"
     ]
    }
   ],
   "source": [
    "# Perfrom Train Test Split with random state found in above step.\n",
    "\n",
    "X_train,X_test,y_train,y_test = train_test_split(XFeatures,TweetData.label,random_state = 70,train_size = 0.8)\n",
    "Log_reg_model = LogisticRegression(random_state=1)\n",
    "Log_reg_model.fit(X_train,y_train)\n",
    "\n",
    "Log_reg_train_score = Log_reg_model.score(X_train,y_train)\n",
    "Log_reg_test_score  = Log_reg_model.score(X_test,y_test)\n",
    "\n",
    "Log_reg_y_pred_test = Log_reg_model.predict(X_test)\n",
    "Log_reg_y_pred_train = Log_reg_model.predict(X_train)\n",
    "\n",
    "print(\"Log Reg Train Score:\",Log_reg_train_score)\n",
    "print(\"Log Reg Test Score:\", Log_reg_test_score)"
   ]
  },
  {
   "cell_type": "code",
   "execution_count": 17,
   "metadata": {},
   "outputs": [
    {
     "name": "stdout",
     "output_type": "stream",
     "text": [
      "====================Confusion Matrics and Classification Report for Test Data====================================\n",
      "[[5948   11]\n",
      " [ 280  154]]\n",
      "=================================================================================================================\n",
      "              precision    recall  f1-score   support\n",
      "\n",
      "           0       0.96      1.00      0.98      5959\n",
      "           1       0.93      0.35      0.51       434\n",
      "\n",
      "    accuracy                           0.95      6393\n",
      "   macro avg       0.94      0.68      0.75      6393\n",
      "weighted avg       0.95      0.95      0.94      6393\n",
      "\n",
      "====================Confusion Matrics and Classification Report for Train Data====================================\n",
      "[[23722    39]\n",
      " [ 1128   680]]\n",
      "=================================================================================================================\n",
      "              precision    recall  f1-score   support\n",
      "\n",
      "           0       0.95      1.00      0.98     23761\n",
      "           1       0.95      0.38      0.54      1808\n",
      "\n",
      "    accuracy                           0.95     25569\n",
      "   macro avg       0.95      0.69      0.76     25569\n",
      "weighted avg       0.95      0.95      0.95     25569\n",
      "\n"
     ]
    }
   ],
   "source": [
    "# Lets Evaluate the model using confusion Matrix and Classification Report.\n",
    "\n",
    "from sklearn.metrics import confusion_matrix\n",
    "from sklearn.metrics import classification_report\n",
    "\n",
    "print(\"====================Confusion Matrics and Classification Report for Test Data====================================\")\n",
    "print(confusion_matrix(y_test,Log_reg_y_pred_test))\n",
    "print(\"=================================================================================================================\")\n",
    "print(classification_report(y_test,Log_reg_y_pred_test))\n",
    "print(\"====================Confusion Matrics and Classification Report for Train Data====================================\")\n",
    "print(confusion_matrix(y_train,Log_reg_y_pred_train))\n",
    "print(\"=================================================================================================================\")\n",
    "print(classification_report(y_train,Log_reg_y_pred_train))"
   ]
  },
  {
   "cell_type": "markdown",
   "metadata": {},
   "source": [
    "Conclusions.\n",
    "1. We have Train Score of 0.95\n",
    "2. We have Test Score of 0.96\n",
    "3. We have Test Score > Train score hence we have generalized model\n",
    "\n",
    "Although we have generalized model as this is case of class imbalance we need to adjust class imbalance using SMOT as below and try to find best model. \n"
   ]
  },
  {
   "cell_type": "markdown",
   "metadata": {},
   "source": [
    "## 4. Adjusting class imbalance with SMOT and build model using logistic regression"
   ]
  },
  {
   "cell_type": "code",
   "execution_count": 18,
   "metadata": {},
   "outputs": [],
   "source": [
    "from imblearn.over_sampling import SMOTE\n",
    "#?SMOTE"
   ]
  },
  {
   "cell_type": "code",
   "execution_count": 19,
   "metadata": {},
   "outputs": [],
   "source": [
    "smote1 = SMOTE(random_state=42)\n",
    "#XSM_train,XSM_test = smote1.fit_sample(X_train,y_train)\n",
    "#(X_train,y_train)"
   ]
  },
  {
   "cell_type": "code",
   "execution_count": 20,
   "metadata": {},
   "outputs": [],
   "source": [
    "X_res,y_res = smote1.fit_resample(X_train,y_train)"
   ]
  },
  {
   "cell_type": "code",
   "execution_count": 21,
   "metadata": {},
   "outputs": [
    {
     "name": "stdout",
     "output_type": "stream",
     "text": [
      "=================Before Sampling Shape======================\n",
      "(25569, 5000) (25569,)\n",
      "23761\n",
      "1808\n",
      "=================After Sampling Shape======================\n",
      "(47522, 5000) (47522,)\n",
      "23761\n",
      "23761\n"
     ]
    }
   ],
   "source": [
    "print('=================Before Sampling Shape======================')\n",
    "print(X_train.shape,y_train.shape)\n",
    "print(sum(y_train==0))\n",
    "print(sum(y_train==1))\n",
    "print('=================After Sampling Shape======================')\n",
    "print(X_res.shape,y_res.shape)\n",
    "print(sum(y_res==0))\n",
    "print(sum(y_res==1))"
   ]
  },
  {
   "cell_type": "code",
   "execution_count": 22,
   "metadata": {},
   "outputs": [
    {
     "name": "stdout",
     "output_type": "stream",
     "text": [
      "Log Reg Train Score: 0.9586296873027229\n",
      "Log Reg Test Score: 0.904895979978101\n"
     ]
    }
   ],
   "source": [
    "# Train the model once again with new Training samples.\n",
    "\n",
    "\n",
    "Log_reg_model_res = LogisticRegression(random_state=1)\n",
    "Log_reg_model_res.fit(X_res,y_res)\n",
    "\n",
    "Log_reg_train_score_res = Log_reg_model_res.score(X_res,y_res)\n",
    "Log_reg_test_score_res  = Log_reg_model_res.score(X_test,y_test)\n",
    "\n",
    "Log_reg_y_pred_test_res = Log_reg_model_res.predict(X_test)\n",
    "Log_reg_y_pred_train_res = Log_reg_model_res.predict(X_res)\n",
    "    \n",
    "print(\"Log Reg Train Score:\",Log_reg_train_score_res)\n",
    "print(\"Log Reg Test Score:\", Log_reg_test_score_res)"
   ]
  },
  {
   "cell_type": "code",
   "execution_count": 23,
   "metadata": {},
   "outputs": [
    {
     "name": "stdout",
     "output_type": "stream",
     "text": [
      "====================Confusion Matrics and Classification Report for Test Data====================================\n",
      "[[5948   11]\n",
      " [ 280  154]]\n",
      "=================================================================================================================\n",
      "              precision    recall  f1-score   support\n",
      "\n",
      "           0       0.96      1.00      0.98      5959\n",
      "           1       0.93      0.35      0.51       434\n",
      "\n",
      "    accuracy                           0.95      6393\n",
      "   macro avg       0.94      0.68      0.75      6393\n",
      "weighted avg       0.95      0.95      0.94      6393\n",
      "\n",
      "====================Confusion Matrics and Classification Report for Test Data====================================\n",
      "[[22264  1497]\n",
      " [  469 23292]]\n",
      "=================================================================================================================\n",
      "              precision    recall  f1-score   support\n",
      "\n",
      "           0       0.98      0.94      0.96     23761\n",
      "           1       0.94      0.98      0.96     23761\n",
      "\n",
      "    accuracy                           0.96     47522\n",
      "   macro avg       0.96      0.96      0.96     47522\n",
      "weighted avg       0.96      0.96      0.96     47522\n",
      "\n"
     ]
    }
   ],
   "source": [
    "# Lets evaluate the model using Classification report and confusion matrix.\n",
    "\n",
    "print(\"====================Confusion Matrics and Classification Report for Test Data====================================\")\n",
    "print(confusion_matrix(y_test,Log_reg_y_pred_test))\n",
    "print(\"=================================================================================================================\")\n",
    "print(classification_report(y_test,Log_reg_y_pred_test))\n",
    "print(\"====================Confusion Matrics and Classification Report for Test Data====================================\")\n",
    "print(confusion_matrix(y_res,Log_reg_y_pred_train_res))\n",
    "print(\"=================================================================================================================\")\n",
    "print(classification_report(y_res,Log_reg_y_pred_train_res))"
   ]
  },
  {
   "cell_type": "markdown",
   "metadata": {},
   "source": [
    "### 5. Try finding out Better model using Cross Valuation Score and Stratified K fold split."
   ]
  },
  {
   "cell_type": "markdown",
   "metadata": {},
   "source": [
    "As the class is imbalanced we need to use Startified K fold spit before we go ahed with Hyperparameter Tuning.\n",
    "\n",
    "Label 0 Count :   29720\n",
    "Label 1 Count :   2242\n",
    "\n",
    "We will perform below steps to try finding better model handling class imbalance.\n",
    "\n",
    "1. Cross Val Score : try finding out the logistic regression model with cross val score with sample split of 10.Try getting min ,max and average accuracy scores using the Cross Val Score.\n",
    "\n",
    "2. Stratified K fold Split : We will use the Stratified K fold split to find out best train test set which is giving Generalized model with accuracy score greater than average accuracy score. \n",
    "\n",
    "3. Train and Test the Logistic Regression Model : This step will train and test the Logistic regression model using best train and test split we have obtained in step 2.\n",
    "\n",
    "4. Evaluate the model : We will finally evaluate the model using confusion matrics and classificaiotn report to check accuracy score , F1 socre and other parameters and also see if we have got the generalized model."
   ]
  },
  {
   "cell_type": "code",
   "execution_count": 24,
   "metadata": {},
   "outputs": [],
   "source": [
    "from sklearn.model_selection import cross_val_score\n",
    "from sklearn.linear_model import LogisticRegression\n"
   ]
  },
  {
   "cell_type": "code",
   "execution_count": 25,
   "metadata": {},
   "outputs": [],
   "source": [
    "# Get Featues and Class Labels into X and Y respectively for further processing. The format Numpy is specifically used in order to\n",
    "# perform faster processing.\n",
    "\n",
    "Y = TweetData.label.to_numpy()\n",
    "X= XFeatures.to_numpy()"
   ]
  },
  {
   "cell_type": "code",
   "execution_count": 26,
   "metadata": {},
   "outputs": [
    {
     "name": "stdout",
     "output_type": "stream",
     "text": [
      "Minimum Results obtained using CV=10 : 0.9489987484355444\n",
      "Average Accuracy obtained using CV=10: 0.9516926949271513\n",
      "Maximum Accuracy obtained using CV=10: 0.9565081351689612\n",
      "--------------------------------------------------------\n",
      "[0.95120425 0.95026587 0.95025031 0.95650814 0.95400501 0.95275344\n",
      " 0.94899875 0.95118899 0.95118899 0.9505632 ]\n"
     ]
    }
   ],
   "source": [
    "LR = LogisticRegression(random_state=1)\n",
    "\n",
    "results = cross_val_score(LR,X,Y,cv=10)\n",
    "print('Minimum Results obtained using CV=10 :',np.min(results))\n",
    "print('Average Accuracy obtained using CV=10:',np.mean(results))\n",
    "print('Maximum Accuracy obtained using CV=10:',np.max(results))\n",
    "print('--------------------------------------------------------')\n",
    "print(results)"
   ]
  },
  {
   "cell_type": "code",
   "execution_count": 27,
   "metadata": {},
   "outputs": [
    {
     "name": "stdout",
     "output_type": "stream",
     "text": [
      "Test Score : 0.9533792240300375 Train Score : 0.9565111590071612 for Sample Split :3 : \n",
      "Test Score : 0.9530663329161452 Train Score : 0.9565806855315303 for Sample Split :5 : \n",
      "Test Score : 0.9518147684605757 Train Score : 0.9572411875130362 for Sample Split :7 : \n",
      "Test Score : 0.9540050062578223 Train Score : 0.9566502120558993 for Sample Split :8 : \n",
      "Test Score : 0.9524405506883604 Train Score : 0.9569978446777445 for Sample Split :9 : \n",
      "Test Score : 0.9518147684605757 Train Score : 0.9564068692206077 for Sample Split :10 : \n"
     ]
    }
   ],
   "source": [
    "# lets Apply the stratified K fold split to get best train test split preserving the Class balance.\n",
    "\n",
    "from sklearn.model_selection import StratifiedKFold\n",
    "SKF = StratifiedKFold(n_splits=10,random_state=1, shuffle=True)\n",
    "\n",
    "i=0\n",
    "for train_index,test_index in SKF.split(X,Y):\n",
    "    i=i+1 # Increate the counter with every iterations.\n",
    "     \n",
    "    X_train_SKF,X_test_SKF = X[train_index],X[test_index]\n",
    "    y_train_SKF,y_test_SKF = Y[train_index],Y[test_index]\n",
    "    \n",
    "    LR.fit(X_train_SKF,y_train_SKF)\n",
    "    \n",
    "    #y_pred_SKF = LR.predict(y_test_SKF)\n",
    "    \n",
    "    if LR.score(X_test_SKF,y_test_SKF) > 0.9516926949271513:\n",
    "        print('Test Score : {} Train Score : {} for Sample Split :{} : '.format(LR.score(X_test_SKF,y_test_SKF),\n",
    "                                                                               LR.score(X_train_SKF,y_train_SKF),i))"
   ]
  },
  {
   "cell_type": "markdown",
   "metadata": {},
   "source": [
    "Conclusions\n",
    "\n",
    "1. From Above its clear that we still do not have true generalized model having Test score greater than Train Score.\n",
    "2. The best train test sample cab be obtained for CV=8\n",
    "3. In below step we will build the final Model with best Train test sample.\n"
   ]
  },
  {
   "cell_type": "code",
   "execution_count": 28,
   "metadata": {},
   "outputs": [
    {
     "name": "stdout",
     "output_type": "stream",
     "text": [
      "==========================MODEL SCORES =========================================\n",
      "Test Score : 0.9540050062578223 Train Score 0.9566502120558993 \n",
      "==========================CONFUSION MATRICS=====================================\n",
      "[[2966    6]\n",
      " [ 141   83]]\n",
      "==========================CLASSIFICATION REPORT=================================\n",
      "              precision    recall  f1-score   support\n",
      "\n",
      "           0       0.95      1.00      0.98      2972\n",
      "           1       0.93      0.37      0.53       224\n",
      "\n",
      "    accuracy                           0.95      3196\n",
      "   macro avg       0.94      0.68      0.75      3196\n",
      "weighted avg       0.95      0.95      0.94      3196\n",
      "\n"
     ]
    }
   ],
   "source": [
    "#Final model using best training and testing samples.\n",
    "\n",
    "# Initializs the Stratified K fold split.\n",
    "from sklearn.model_selection import StratifiedKFold\n",
    "SKF = StratifiedKFold(n_splits=10,random_state=1, shuffle=True)\n",
    "\n",
    "# Below for loop will pick the Train Test split for Split value 8 as we had good test score from above step results \n",
    "# for shuffle split 8\n",
    "\n",
    "i=0\n",
    "for train_index,test_index in SKF.split(X,Y):\n",
    "    i=i+1 # Increate the counter with every iterations.\n",
    "     \n",
    "    X_train_SKF,X_test_SKF = X[train_index],X[test_index]\n",
    "    y_train_SKF,y_test_SKF = Y[train_index],Y[test_index]\n",
    "    \n",
    "    LR.fit(X_train_SKF,y_train_SKF)\n",
    "    \n",
    "     # Get the values into Final Variables.\n",
    "    if i == 8:\n",
    "        X_train_final = X_train_SKF\n",
    "        X_test_final  = X_test_SKF\n",
    "        y_train_final = y_train_SKF\n",
    "        y_test_final  = y_test_SKF\n",
    "\n",
    "# Fit the model on best Training samples.\n",
    "\n",
    "LR.fit(X_train_final,y_train_final)\n",
    "\n",
    "# Print the score for info purpose.\n",
    "print('==========================MODEL SCORES =========================================')\n",
    "print ('Test Score : {} Train Score {} '.format(LR.score(X_test_final,y_test_final),LR.score(X_train_final,y_train_final)))\n",
    "\n",
    "# Predict the value\n",
    "\n",
    "y_pred_final=LR.predict(X_test_final)\n",
    "\n",
    "print('==========================CONFUSION MATRICS=====================================')\n",
    "print(confusion_matrix(y_test_final,y_pred_final))\n",
    "print('==========================CLASSIFICATION REPORT=================================')\n",
    "print(classification_report(y_test_final,y_pred_final))"
   ]
  },
  {
   "cell_type": "markdown",
   "metadata": {},
   "source": [
    "Conclusion: We still don't have the generalized model. Lets try improving the accuracy score using hyperparameter tuning."
   ]
  },
  {
   "cell_type": "markdown",
   "metadata": {},
   "source": [
    "### 6. Hyperparameter Tuning."
   ]
  },
  {
   "cell_type": "code",
   "execution_count": 29,
   "metadata": {},
   "outputs": [
    {
     "name": "stdout",
     "output_type": "stream",
     "text": [
      "Fitting 4 folds for each of 7 candidates, totalling 28 fits\n"
     ]
    },
    {
     "name": "stderr",
     "output_type": "stream",
     "text": [
      "[Parallel(n_jobs=-1)]: Using backend LokyBackend with 8 concurrent workers.\n",
      "[Parallel(n_jobs=-1)]: Done  23 out of  28 | elapsed: 18.7min remaining:  4.1min\n",
      "[Parallel(n_jobs=-1)]: Done  28 out of  28 | elapsed: 22.2min finished\n"
     ]
    },
    {
     "data": {
      "text/plain": [
       "GridSearchCV(cv=4, estimator=LogisticRegression(random_state=1), n_jobs=-1,\n",
       "             param_grid=[{'penalty': ['l2'],\n",
       "                          'solver': ['newton-cg', 'lbfgs', 'sag']},\n",
       "                         {'penalty': ['l1', 'l2'],\n",
       "                          'solver': ['liblinear', 'saga']}],\n",
       "             verbose=3)"
      ]
     },
     "execution_count": 29,
     "metadata": {},
     "output_type": "execute_result"
    }
   ],
   "source": [
    "# Hyperparameter Tunning for the model.\n",
    "from sklearn.model_selection import GridSearchCV\n",
    "\n",
    "# Define the Parameter Grid using Dictionary Object.\n",
    "ParameterGrid = [ {'penalty': ['l2'],'solver': ['newton-cg','lbfgs','sag']} ,\n",
    "                 {'penalty': ['l1','l2'],'solver':['liblinear','saga']} ]\n",
    "               \n",
    "# Create GridSearchCV Object.\n",
    "\n",
    "GSCV = GridSearchCV(LR,ParameterGrid,n_jobs=-1,cv=4,verbose=3)\n",
    "\n",
    "# Fit the GridSearch CV on X and Y variables.\n",
    "\n",
    "GSCV.fit(X,Y)\n"
   ]
  },
  {
   "cell_type": "code",
   "execution_count": 30,
   "metadata": {},
   "outputs": [
    {
     "data": {
      "text/plain": [
       "LogisticRegression(penalty='l1', random_state=1, solver='liblinear')"
      ]
     },
     "execution_count": 30,
     "metadata": {},
     "output_type": "execute_result"
    }
   ],
   "source": [
    "GSCV.best_estimator_"
   ]
  },
  {
   "cell_type": "code",
   "execution_count": 31,
   "metadata": {},
   "outputs": [
    {
     "data": {
      "text/plain": [
       "{'penalty': 'l1', 'solver': 'liblinear'}"
      ]
     },
     "execution_count": 31,
     "metadata": {},
     "output_type": "execute_result"
    }
   ],
   "source": [
    "GSCV.best_params_"
   ]
  },
  {
   "cell_type": "code",
   "execution_count": 32,
   "metadata": {},
   "outputs": [
    {
     "name": "stdout",
     "output_type": "stream",
     "text": [
      "==========================================Model Score======================================================\n",
      "0.9638946248670296\n",
      "==========================================Confusion Matrics================================================\n",
      "[[29608   112]\n",
      " [ 1042  1200]]\n",
      "==========================================Classification Report============================================\n",
      "              precision    recall  f1-score   support\n",
      "\n",
      "           0       0.97      1.00      0.98     29720\n",
      "           1       0.91      0.54      0.68      2242\n",
      "\n",
      "    accuracy                           0.96     31962\n",
      "   macro avg       0.94      0.77      0.83     31962\n",
      "weighted avg       0.96      0.96      0.96     31962\n",
      "\n"
     ]
    }
   ],
   "source": [
    "# lets use the parameters we have got above and play with Parameter C.\n",
    "\n",
    "FinalLogReg = LogisticRegression(penalty='l1', random_state=1, solver='liblinear')\n",
    "FinalLogReg.fit(X,Y)\n",
    "\n",
    "# Print the model Score.\n",
    "print('==========================================Model Score======================================================')\n",
    "print(FinalLogReg.score(X,Y))\n",
    "\n",
    "# Predict the Y value based on X values with Final Model.\n",
    "y_pred_final_Hyp = FinalLogReg.predict(X)\n",
    "\n",
    "# Confusion Matrics.\n",
    "print('==========================================Confusion Matrics================================================')\n",
    "print(confusion_matrix(Y,y_pred_final_Hyp))\n",
    "# Classification Report.\n",
    "print('==========================================Classification Report============================================')\n",
    "print(classification_report(Y,y_pred_final_Hyp))"
   ]
  },
  {
   "cell_type": "markdown",
   "metadata": {},
   "source": [
    "### Final Conclusion of model"
   ]
  },
  {
   "cell_type": "markdown",
   "metadata": {},
   "source": [
    "Conclusion:\n",
    "    1. With the final model we have got the accuracy score of 96.\n",
    "    2. The recall value of class '1' has been also improved to 0.54 which was below 0.40 for other old models.\n",
    "    3. The F1 Score has also improved to 0.68 from 0.53 and below for other models\n",
    "    "
   ]
  },
  {
   "cell_type": "markdown",
   "metadata": {},
   "source": [
    "### Testing with a sample Tweet\n",
    "\n",
    "Lets Test the model with sample input. The input tweet is taken from input data only for which the label is already available.\n",
    "\n",
    "Testing Tweets are as below : \n",
    "\n",
    "\n",
    "Record no 3,Tweet - \"i get to see my daddy today!!   #80days #gettingfed\" , Label = 0(non-hate)\n",
    "\n",
    "\n",
    "Record no 363,Tweet - \"trump ny co-chair makes racist remarks about michelle obama  #p2 #p21 #fyi  #tcot\", Label = 1 (hate)"
   ]
  },
  {
   "cell_type": "code",
   "execution_count": 59,
   "metadata": {},
   "outputs": [
    {
     "name": "stdout",
     "output_type": "stream",
     "text": [
      "Enter the Tweet :i get to see my daddy today!! #80days #gettingfed\n",
      "---------------------------------------------------------------------------------------------------------------\n",
      "You have entered the Tweet :\" i get to see my daddy today!! #80days #gettingfed \"\n",
      "---------------------------------------------------------------------------------------------------------------\n",
      "---------------------------------------------------------------------------------------------------------------\n",
      "The model returned lable value is: [0]\n",
      "---------------------------------------------------------------------------------------------------------------\n",
      "The Tweet is non hate Tweet\n"
     ]
    }
   ],
   "source": [
    "# Accept the input from the User\n",
    "# Test Case : Non Hate Tweet.\n",
    "TestTweet = input(\"Enter the Tweet :\")\n",
    "\n",
    "# Display the accepted input to the user.\n",
    "print(\"---------------------------------------------------------------------------------------------------------------\")\n",
    "print(\"You have entered the Tweet :\"'\"',TestTweet,'\"')\n",
    "TestTweetDF = pd.DataFrame(pd.Series(TestTweet))\n",
    "\n",
    "print(\"---------------------------------------------------------------------------------------------------------------\")\n",
    "\n",
    "# Perform cleaning and conversion into TF-IDF features.\n",
    "\n",
    "TF_IDF_VecTest = TfidfVectorizer(analyzer=cleanup,max_features=5000)\n",
    "XUserTest = TF_IDF_Vec1.transform(TestTweetDF.iloc[:,0])\n",
    "XUserFeatureTest = pd.DataFrame(XUserTest.toarray())\n",
    "\n",
    "print(\"---------------------------------------------------------------------------------------------------------------\")\n",
    "print(\"The model returned lable value is:\",FinalLogReg.predict(XUserFeatureTest))\n",
    "print(\"---------------------------------------------------------------------------------------------------------------\")\n",
    "\n",
    "if FinalLogReg.predict(XUserFeatureTest) == 0:\n",
    "    print(\"The Tweet is non hate Tweet\")\n",
    "else:\n",
    "    print(\"The Tweet is hate Tweet\")\n"
   ]
  },
  {
   "cell_type": "code",
   "execution_count": 60,
   "metadata": {},
   "outputs": [
    {
     "name": "stdout",
     "output_type": "stream",
     "text": [
      "Enter the Tweet :trump ny co-chair makes racist remarks about michelle obama #p2 #p21 #fyi #tcot\n",
      "---------------------------------------------------------------------------------------------------------------\n",
      "You have entered the Tweet :\" trump ny co-chair makes racist remarks about michelle obama #p2 #p21 #fyi #tcot \"\n",
      "---------------------------------------------------------------------------------------------------------------\n",
      "---------------------------------------------------------------------------------------------------------------\n",
      "The model returned lable value is: [1]\n",
      "---------------------------------------------------------------------------------------------------------------\n",
      "The Tweet is hate Tweet\n"
     ]
    }
   ],
   "source": [
    "# Accept the input from the User\n",
    "# Test Case : Hate Tweet.\n",
    "TestTweet = input(\"Enter the Tweet :\")\n",
    "\n",
    "# Display the accepted input to the user.\n",
    "print(\"---------------------------------------------------------------------------------------------------------------\")\n",
    "print(\"You have entered the Tweet :\"'\"',TestTweet,'\"')\n",
    "TestTweetDF = pd.DataFrame(pd.Series(TestTweet))\n",
    "print(\"---------------------------------------------------------------------------------------------------------------\")\n",
    "\n",
    "# Perform cleaning and conversion into TF-IDF features.\n",
    "\n",
    "TF_IDF_VecTest = TfidfVectorizer(analyzer=cleanup,max_features=5000)\n",
    "XUserTest = TF_IDF_Vec1.transform(TestTweetDF.iloc[:,0])\n",
    "XUserFeatureTest = pd.DataFrame(XUserTest.toarray())\n",
    "print(\"---------------------------------------------------------------------------------------------------------------\")\n",
    "print(\"The model returned lable value is:\",FinalLogReg.predict(XUserFeatureTest))\n",
    "print(\"---------------------------------------------------------------------------------------------------------------\")\n",
    "if FinalLogReg.predict(XUserFeatureTest) == 0:\n",
    "    print(\"The Tweet is non hate Tweet\")\n",
    "else:\n",
    "    print(\"The Tweet is hate Tweet\")\n"
   ]
  },
  {
   "cell_type": "code",
   "execution_count": 63,
   "metadata": {},
   "outputs": [],
   "source": [
    "# Export the model using pickle.\n",
    "import pickle\n",
    "filename = 'twitterhatemodel'\n",
    "outfil = open(filename,'wb')\n",
    "pickle.dump(TF_IDF_Vec1,outfil)\n",
    "pickle.dump(FinalLogReg,outfil)"
   ]
  }
 ],
 "metadata": {
  "kernelspec": {
   "display_name": "Python 3",
   "language": "python",
   "name": "python3"
  },
  "language_info": {
   "codemirror_mode": {
    "name": "ipython",
    "version": 3
   },
   "file_extension": ".py",
   "mimetype": "text/x-python",
   "name": "python",
   "nbconvert_exporter": "python",
   "pygments_lexer": "ipython3",
   "version": "3.7.6"
  }
 },
 "nbformat": 4,
 "nbformat_minor": 4
}
